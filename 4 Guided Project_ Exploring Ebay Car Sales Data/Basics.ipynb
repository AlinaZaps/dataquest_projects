{
 "cells": [
  {
   "cell_type": "markdown",
   "metadata": {
    "collapsed": true
   },
   "source": [
    "## Exploring Ebay Car Sales Data\n",
    "\n",
    "We will be working on a dataset of used cars from eBay Kleinanzeigen, a classifieds section of the German eBay website.\n",
    "\n",
    "The dataset was originally scraped and uploaded to Kaggle. The version of the dataset we are working with is a sample of 50,000 data points that was prepared by Dataquest including simulating a less-cleaned version of the data.\n",
    "\n",
    "The data dictionary provided with data is as follows:\n",
    "\n",
    "- dateCrawled - When this ad was first crawled. All field-values are taken from this date.\n",
    "- name - Name of the car.\n",
    "- seller - Whether the seller is private or a dealer.\n",
    "- offerType - The type of listing\n",
    "- price - The price on the ad to sell the car.\n",
    "- abtest - Whether the listing is included in an A/B test.\n",
    "- vehicleType - The vehicle Type.\n",
    "- yearOfRegistration - The year in which which year the car was first registered.\n",
    "- gearbox - The transmission type.\n",
    "- powerPS - The power of the car in PS.\n",
    "- model - The car model name.\n",
    "- kilometer - How many kilometers the car has driven.\n",
    "- monthOfRegistration - The month in which which year the car was first registered.\n",
    "- fuelType - What type of fuel the car uses.\n",
    "- brand - The brand of the car.\n",
    "- notRepairedDamage - If the car has a damage which is not yet repaired.\n",
    "- dateCreated - The date on which the eBay listing was created.\n",
    "- nrOfPictures - The number of pictures in the ad.\n",
    "- postalCode - The postal code for the location of the vehicle.\n",
    "- lastSeenOnline - When the crawler saw this ad last online.\n",
    "\n",
    "The aim of this project is to clean the data and analyze the included used car listings. \n",
    "Let's start by importing the libraries we need and reading the dataset into pandas."
   ]
  },
  {
   "cell_type": "code",
   "execution_count": 1,
   "metadata": {
    "collapsed": false
   },
   "outputs": [],
   "source": [
    "import pandas as pd\n",
    "import numpy as np\n",
    "import re\n",
    "\n",
    "autos = pd.read_csv('autos.csv', encoding=\"ISO-8859-1\")\n"
   ]
  },
  {
   "cell_type": "code",
   "execution_count": 2,
   "metadata": {
    "collapsed": false
   },
   "outputs": [
    {
     "name": "stdout",
     "output_type": "stream",
     "text": [
      "<class 'pandas.core.frame.DataFrame'>\n",
      "RangeIndex: 50000 entries, 0 to 49999\n",
      "Data columns (total 20 columns):\n",
      "dateCrawled            50000 non-null object\n",
      "name                   50000 non-null object\n",
      "seller                 50000 non-null object\n",
      "offerType              50000 non-null object\n",
      "price                  50000 non-null object\n",
      "abtest                 50000 non-null object\n",
      "vehicleType            44905 non-null object\n",
      "yearOfRegistration     50000 non-null int64\n",
      "gearbox                47320 non-null object\n",
      "powerPS                50000 non-null int64\n",
      "model                  47242 non-null object\n",
      "odometer               50000 non-null object\n",
      "monthOfRegistration    50000 non-null int64\n",
      "fuelType               45518 non-null object\n",
      "brand                  50000 non-null object\n",
      "notRepairedDamage      40171 non-null object\n",
      "dateCreated            50000 non-null object\n",
      "nrOfPictures           50000 non-null int64\n",
      "postalCode             50000 non-null int64\n",
      "lastSeen               50000 non-null object\n",
      "dtypes: int64(5), object(15)\n",
      "memory usage: 7.6+ MB\n"
     ]
    }
   ],
   "source": [
    "autos.info()"
   ]
  },
  {
   "cell_type": "markdown",
   "metadata": {},
   "source": [
    "From the work we did, we can make the following observations:\n",
    "\n",
    "- The dataset contains 20 columns, most of which are strings.\n",
    "- Some columns have null values, but none have more than 20% null values.\n",
    "- The column names use camelcase instead of Python's preferred snakecase, which means we can't just replace spaces with underscores.\n",
    "\n",
    "Let's convert the column names from camelcase to snakecase and reword some of the column names based on the data dictionary to be more descriptive."
   ]
  },
  {
   "cell_type": "code",
   "execution_count": 3,
   "metadata": {
    "collapsed": false
   },
   "outputs": [
    {
     "data": {
      "text/plain": [
       "Index(['date_crawled', 'name', 'seller', 'offer_type', 'price', 'abtest',\n",
       "       'vehicle_type', 'registration_year', 'gearbox', 'power_p_s', 'model',\n",
       "       'odometer', 'registration_month', 'fuel_type', 'brand',\n",
       "       'unrepaired_damage', 'ad_created', 'nr_of_pictures', 'postal_code',\n",
       "       'last_seen'],\n",
       "      dtype='object')"
      ]
     },
     "execution_count": 3,
     "metadata": {},
     "output_type": "execute_result"
    }
   ],
   "source": [
    "def clear_names(str_):\n",
    "    str_ = str_.replace('yearOfRegistration','registration_year')\n",
    "    str_ = str_.replace('monthOfRegistration','registration_month')\n",
    "    str_ = str_.replace('notRepairedDamage','unrepaired_damage')\n",
    "    str_ = str_.replace('dateCreated','ad_created')\n",
    "    str_ = re.sub(r'(?<!^)(?=[A-Z])', '_', str_).lower()\n",
    "    return str_\n",
    "\n",
    "new_column = []\n",
    "for el in autos.columns:\n",
    "    new_column.append(clear_names(el))\n",
    "\n",
    "autos.columns = new_column\n",
    "autos.columns\n"
   ]
  },
  {
   "cell_type": "markdown",
   "metadata": {
    "collapsed": true
   },
   "source": [
    "Now let's do some basic data exploration to determine what other cleaning tasks need to be done. Initially we will look for:\n",
    "- Text columns where all or almost all values are the same. These can often be dropped as they don't have useful information for analysis.\n",
    "- Examples of numeric data stored as text which can be cleaned and converted."
   ]
  },
  {
   "cell_type": "code",
   "execution_count": 4,
   "metadata": {
    "collapsed": false,
    "scrolled": true
   },
   "outputs": [
    {
     "data": {
      "text/html": [
       "<div>\n",
       "<style scoped>\n",
       "    .dataframe tbody tr th:only-of-type {\n",
       "        vertical-align: middle;\n",
       "    }\n",
       "\n",
       "    .dataframe tbody tr th {\n",
       "        vertical-align: top;\n",
       "    }\n",
       "\n",
       "    .dataframe thead th {\n",
       "        text-align: right;\n",
       "    }\n",
       "</style>\n",
       "<table border=\"1\" class=\"dataframe\">\n",
       "  <thead>\n",
       "    <tr style=\"text-align: right;\">\n",
       "      <th></th>\n",
       "      <th>date_crawled</th>\n",
       "      <th>name</th>\n",
       "      <th>seller</th>\n",
       "      <th>offer_type</th>\n",
       "      <th>price</th>\n",
       "      <th>abtest</th>\n",
       "      <th>vehicle_type</th>\n",
       "      <th>registration_year</th>\n",
       "      <th>gearbox</th>\n",
       "      <th>power_p_s</th>\n",
       "      <th>model</th>\n",
       "      <th>odometer</th>\n",
       "      <th>registration_month</th>\n",
       "      <th>fuel_type</th>\n",
       "      <th>brand</th>\n",
       "      <th>unrepaired_damage</th>\n",
       "      <th>ad_created</th>\n",
       "      <th>nr_of_pictures</th>\n",
       "      <th>postal_code</th>\n",
       "      <th>last_seen</th>\n",
       "    </tr>\n",
       "  </thead>\n",
       "  <tbody>\n",
       "    <tr>\n",
       "      <th>count</th>\n",
       "      <td>50000</td>\n",
       "      <td>50000</td>\n",
       "      <td>50000</td>\n",
       "      <td>50000</td>\n",
       "      <td>50000</td>\n",
       "      <td>50000</td>\n",
       "      <td>44905</td>\n",
       "      <td>50000.000000</td>\n",
       "      <td>47320</td>\n",
       "      <td>50000.000000</td>\n",
       "      <td>47242</td>\n",
       "      <td>50000</td>\n",
       "      <td>50000.000000</td>\n",
       "      <td>45518</td>\n",
       "      <td>50000</td>\n",
       "      <td>40171</td>\n",
       "      <td>50000</td>\n",
       "      <td>50000.0</td>\n",
       "      <td>50000.000000</td>\n",
       "      <td>50000</td>\n",
       "    </tr>\n",
       "    <tr>\n",
       "      <th>unique</th>\n",
       "      <td>48213</td>\n",
       "      <td>38754</td>\n",
       "      <td>2</td>\n",
       "      <td>2</td>\n",
       "      <td>2357</td>\n",
       "      <td>2</td>\n",
       "      <td>8</td>\n",
       "      <td>NaN</td>\n",
       "      <td>2</td>\n",
       "      <td>NaN</td>\n",
       "      <td>245</td>\n",
       "      <td>13</td>\n",
       "      <td>NaN</td>\n",
       "      <td>7</td>\n",
       "      <td>40</td>\n",
       "      <td>2</td>\n",
       "      <td>76</td>\n",
       "      <td>NaN</td>\n",
       "      <td>NaN</td>\n",
       "      <td>39481</td>\n",
       "    </tr>\n",
       "    <tr>\n",
       "      <th>top</th>\n",
       "      <td>2016-03-30 19:48:02</td>\n",
       "      <td>Ford_Fiesta</td>\n",
       "      <td>privat</td>\n",
       "      <td>Angebot</td>\n",
       "      <td>$0</td>\n",
       "      <td>test</td>\n",
       "      <td>limousine</td>\n",
       "      <td>NaN</td>\n",
       "      <td>manuell</td>\n",
       "      <td>NaN</td>\n",
       "      <td>golf</td>\n",
       "      <td>150,000km</td>\n",
       "      <td>NaN</td>\n",
       "      <td>benzin</td>\n",
       "      <td>volkswagen</td>\n",
       "      <td>nein</td>\n",
       "      <td>2016-04-03 00:00:00</td>\n",
       "      <td>NaN</td>\n",
       "      <td>NaN</td>\n",
       "      <td>2016-04-07 06:17:27</td>\n",
       "    </tr>\n",
       "    <tr>\n",
       "      <th>freq</th>\n",
       "      <td>3</td>\n",
       "      <td>78</td>\n",
       "      <td>49999</td>\n",
       "      <td>49999</td>\n",
       "      <td>1421</td>\n",
       "      <td>25756</td>\n",
       "      <td>12859</td>\n",
       "      <td>NaN</td>\n",
       "      <td>36993</td>\n",
       "      <td>NaN</td>\n",
       "      <td>4024</td>\n",
       "      <td>32424</td>\n",
       "      <td>NaN</td>\n",
       "      <td>30107</td>\n",
       "      <td>10687</td>\n",
       "      <td>35232</td>\n",
       "      <td>1946</td>\n",
       "      <td>NaN</td>\n",
       "      <td>NaN</td>\n",
       "      <td>8</td>\n",
       "    </tr>\n",
       "    <tr>\n",
       "      <th>mean</th>\n",
       "      <td>NaN</td>\n",
       "      <td>NaN</td>\n",
       "      <td>NaN</td>\n",
       "      <td>NaN</td>\n",
       "      <td>NaN</td>\n",
       "      <td>NaN</td>\n",
       "      <td>NaN</td>\n",
       "      <td>2005.073280</td>\n",
       "      <td>NaN</td>\n",
       "      <td>116.355920</td>\n",
       "      <td>NaN</td>\n",
       "      <td>NaN</td>\n",
       "      <td>5.723360</td>\n",
       "      <td>NaN</td>\n",
       "      <td>NaN</td>\n",
       "      <td>NaN</td>\n",
       "      <td>NaN</td>\n",
       "      <td>0.0</td>\n",
       "      <td>50813.627300</td>\n",
       "      <td>NaN</td>\n",
       "    </tr>\n",
       "    <tr>\n",
       "      <th>std</th>\n",
       "      <td>NaN</td>\n",
       "      <td>NaN</td>\n",
       "      <td>NaN</td>\n",
       "      <td>NaN</td>\n",
       "      <td>NaN</td>\n",
       "      <td>NaN</td>\n",
       "      <td>NaN</td>\n",
       "      <td>105.712813</td>\n",
       "      <td>NaN</td>\n",
       "      <td>209.216627</td>\n",
       "      <td>NaN</td>\n",
       "      <td>NaN</td>\n",
       "      <td>3.711984</td>\n",
       "      <td>NaN</td>\n",
       "      <td>NaN</td>\n",
       "      <td>NaN</td>\n",
       "      <td>NaN</td>\n",
       "      <td>0.0</td>\n",
       "      <td>25779.747957</td>\n",
       "      <td>NaN</td>\n",
       "    </tr>\n",
       "    <tr>\n",
       "      <th>min</th>\n",
       "      <td>NaN</td>\n",
       "      <td>NaN</td>\n",
       "      <td>NaN</td>\n",
       "      <td>NaN</td>\n",
       "      <td>NaN</td>\n",
       "      <td>NaN</td>\n",
       "      <td>NaN</td>\n",
       "      <td>1000.000000</td>\n",
       "      <td>NaN</td>\n",
       "      <td>0.000000</td>\n",
       "      <td>NaN</td>\n",
       "      <td>NaN</td>\n",
       "      <td>0.000000</td>\n",
       "      <td>NaN</td>\n",
       "      <td>NaN</td>\n",
       "      <td>NaN</td>\n",
       "      <td>NaN</td>\n",
       "      <td>0.0</td>\n",
       "      <td>1067.000000</td>\n",
       "      <td>NaN</td>\n",
       "    </tr>\n",
       "    <tr>\n",
       "      <th>25%</th>\n",
       "      <td>NaN</td>\n",
       "      <td>NaN</td>\n",
       "      <td>NaN</td>\n",
       "      <td>NaN</td>\n",
       "      <td>NaN</td>\n",
       "      <td>NaN</td>\n",
       "      <td>NaN</td>\n",
       "      <td>1999.000000</td>\n",
       "      <td>NaN</td>\n",
       "      <td>70.000000</td>\n",
       "      <td>NaN</td>\n",
       "      <td>NaN</td>\n",
       "      <td>3.000000</td>\n",
       "      <td>NaN</td>\n",
       "      <td>NaN</td>\n",
       "      <td>NaN</td>\n",
       "      <td>NaN</td>\n",
       "      <td>0.0</td>\n",
       "      <td>30451.000000</td>\n",
       "      <td>NaN</td>\n",
       "    </tr>\n",
       "    <tr>\n",
       "      <th>50%</th>\n",
       "      <td>NaN</td>\n",
       "      <td>NaN</td>\n",
       "      <td>NaN</td>\n",
       "      <td>NaN</td>\n",
       "      <td>NaN</td>\n",
       "      <td>NaN</td>\n",
       "      <td>NaN</td>\n",
       "      <td>2003.000000</td>\n",
       "      <td>NaN</td>\n",
       "      <td>105.000000</td>\n",
       "      <td>NaN</td>\n",
       "      <td>NaN</td>\n",
       "      <td>6.000000</td>\n",
       "      <td>NaN</td>\n",
       "      <td>NaN</td>\n",
       "      <td>NaN</td>\n",
       "      <td>NaN</td>\n",
       "      <td>0.0</td>\n",
       "      <td>49577.000000</td>\n",
       "      <td>NaN</td>\n",
       "    </tr>\n",
       "    <tr>\n",
       "      <th>75%</th>\n",
       "      <td>NaN</td>\n",
       "      <td>NaN</td>\n",
       "      <td>NaN</td>\n",
       "      <td>NaN</td>\n",
       "      <td>NaN</td>\n",
       "      <td>NaN</td>\n",
       "      <td>NaN</td>\n",
       "      <td>2008.000000</td>\n",
       "      <td>NaN</td>\n",
       "      <td>150.000000</td>\n",
       "      <td>NaN</td>\n",
       "      <td>NaN</td>\n",
       "      <td>9.000000</td>\n",
       "      <td>NaN</td>\n",
       "      <td>NaN</td>\n",
       "      <td>NaN</td>\n",
       "      <td>NaN</td>\n",
       "      <td>0.0</td>\n",
       "      <td>71540.000000</td>\n",
       "      <td>NaN</td>\n",
       "    </tr>\n",
       "    <tr>\n",
       "      <th>max</th>\n",
       "      <td>NaN</td>\n",
       "      <td>NaN</td>\n",
       "      <td>NaN</td>\n",
       "      <td>NaN</td>\n",
       "      <td>NaN</td>\n",
       "      <td>NaN</td>\n",
       "      <td>NaN</td>\n",
       "      <td>9999.000000</td>\n",
       "      <td>NaN</td>\n",
       "      <td>17700.000000</td>\n",
       "      <td>NaN</td>\n",
       "      <td>NaN</td>\n",
       "      <td>12.000000</td>\n",
       "      <td>NaN</td>\n",
       "      <td>NaN</td>\n",
       "      <td>NaN</td>\n",
       "      <td>NaN</td>\n",
       "      <td>0.0</td>\n",
       "      <td>99998.000000</td>\n",
       "      <td>NaN</td>\n",
       "    </tr>\n",
       "  </tbody>\n",
       "</table>\n",
       "</div>"
      ],
      "text/plain": [
       "               date_crawled         name  seller offer_type  price abtest  \\\n",
       "count                 50000        50000   50000      50000  50000  50000   \n",
       "unique                48213        38754       2          2   2357      2   \n",
       "top     2016-03-30 19:48:02  Ford_Fiesta  privat    Angebot     $0   test   \n",
       "freq                      3           78   49999      49999   1421  25756   \n",
       "mean                    NaN          NaN     NaN        NaN    NaN    NaN   \n",
       "std                     NaN          NaN     NaN        NaN    NaN    NaN   \n",
       "min                     NaN          NaN     NaN        NaN    NaN    NaN   \n",
       "25%                     NaN          NaN     NaN        NaN    NaN    NaN   \n",
       "50%                     NaN          NaN     NaN        NaN    NaN    NaN   \n",
       "75%                     NaN          NaN     NaN        NaN    NaN    NaN   \n",
       "max                     NaN          NaN     NaN        NaN    NaN    NaN   \n",
       "\n",
       "       vehicle_type  registration_year  gearbox     power_p_s  model  \\\n",
       "count         44905       50000.000000    47320  50000.000000  47242   \n",
       "unique            8                NaN        2           NaN    245   \n",
       "top       limousine                NaN  manuell           NaN   golf   \n",
       "freq          12859                NaN    36993           NaN   4024   \n",
       "mean            NaN        2005.073280      NaN    116.355920    NaN   \n",
       "std             NaN         105.712813      NaN    209.216627    NaN   \n",
       "min             NaN        1000.000000      NaN      0.000000    NaN   \n",
       "25%             NaN        1999.000000      NaN     70.000000    NaN   \n",
       "50%             NaN        2003.000000      NaN    105.000000    NaN   \n",
       "75%             NaN        2008.000000      NaN    150.000000    NaN   \n",
       "max             NaN        9999.000000      NaN  17700.000000    NaN   \n",
       "\n",
       "         odometer  registration_month fuel_type       brand unrepaired_damage  \\\n",
       "count       50000        50000.000000     45518       50000             40171   \n",
       "unique         13                 NaN         7          40                 2   \n",
       "top     150,000km                 NaN    benzin  volkswagen              nein   \n",
       "freq        32424                 NaN     30107       10687             35232   \n",
       "mean          NaN            5.723360       NaN         NaN               NaN   \n",
       "std           NaN            3.711984       NaN         NaN               NaN   \n",
       "min           NaN            0.000000       NaN         NaN               NaN   \n",
       "25%           NaN            3.000000       NaN         NaN               NaN   \n",
       "50%           NaN            6.000000       NaN         NaN               NaN   \n",
       "75%           NaN            9.000000       NaN         NaN               NaN   \n",
       "max           NaN           12.000000       NaN         NaN               NaN   \n",
       "\n",
       "                 ad_created  nr_of_pictures   postal_code            last_seen  \n",
       "count                 50000         50000.0  50000.000000                50000  \n",
       "unique                   76             NaN           NaN                39481  \n",
       "top     2016-04-03 00:00:00             NaN           NaN  2016-04-07 06:17:27  \n",
       "freq                   1946             NaN           NaN                    8  \n",
       "mean                    NaN             0.0  50813.627300                  NaN  \n",
       "std                     NaN             0.0  25779.747957                  NaN  \n",
       "min                     NaN             0.0   1067.000000                  NaN  \n",
       "25%                     NaN             0.0  30451.000000                  NaN  \n",
       "50%                     NaN             0.0  49577.000000                  NaN  \n",
       "75%                     NaN             0.0  71540.000000                  NaN  \n",
       "max                     NaN             0.0  99998.000000                  NaN  "
      ]
     },
     "execution_count": 4,
     "metadata": {},
     "output_type": "execute_result"
    }
   ],
   "source": [
    "autos.describe(include='all')"
   ]
  },
  {
   "cell_type": "markdown",
   "metadata": {},
   "source": [
    "Our initial observations:\n",
    "\n",
    "There are a number of text columns where all (or nearly all) of the values are the same:\n",
    "- seller\n",
    "- offer_type\n",
    "The num_photos column looks like the num_photos column has 0 for every column. We'll drop this column, plus the other two we noted as mostly one value."
   ]
  },
  {
   "cell_type": "code",
   "execution_count": 5,
   "metadata": {
    "collapsed": false
   },
   "outputs": [],
   "source": [
    "autos = autos.drop([\"nr_of_pictures\", \"seller\", \"offer_type\"], axis=1)"
   ]
  },
  {
   "cell_type": "markdown",
   "metadata": {},
   "source": [
    "The price and odometer columns are numeric values stored as text. For each column:\n",
    "\n",
    "- Remove any non-numeric characters.\n",
    "- Convert the column to a numeric dtype.\n",
    "\n",
    "Use DataFrame.rename() to rename the column to odometer_km."
   ]
  },
  {
   "cell_type": "code",
   "execution_count": 6,
   "metadata": {
    "collapsed": false
   },
   "outputs": [
    {
     "name": "stdout",
     "output_type": "stream",
     "text": [
      "count    5.000000e+04\n",
      "mean     9.840044e+03\n",
      "std      4.811044e+05\n",
      "min      0.000000e+00\n",
      "25%      1.100000e+03\n",
      "50%      2.950000e+03\n",
      "75%      7.200000e+03\n",
      "max      1.000000e+08\n",
      "Name: price, dtype: float64\n",
      "count     50000.000000\n",
      "mean     125732.700000\n",
      "std       40042.211706\n",
      "min        5000.000000\n",
      "25%      125000.000000\n",
      "50%      150000.000000\n",
      "75%      150000.000000\n",
      "max      150000.000000\n",
      "Name: odometer_km, dtype: float64\n"
     ]
    }
   ],
   "source": [
    "autos['price'] = (autos['price']\n",
    "                  .str\n",
    "                  .replace('$', '')\n",
    "                  .str\n",
    "                  .replace(',', '')\n",
    "                  .astype(float)\n",
    "                 )\n",
    "autos['odometer'] = (autos['odometer']\n",
    "                     .str\n",
    "                     .replace('km', '')\n",
    "                     .str\n",
    "                      .replace(',', '')\n",
    "                     .astype(float)\n",
    "                    )\n",
    "autos.rename({'odometer': 'odometer_km'},\n",
    "                         axis=1, \n",
    "                         inplace=True\n",
    "                        )\n",
    "print(autos['price'].describe(include='all'))\n",
    "print(autos['odometer_km'].describe(include='all'))\n"
   ]
  },
  {
   "cell_type": "markdown",
   "metadata": {},
   "source": [
    "Let's continue exploring the data, specifically looking for data that doesn't look right. We'll start by analyzing the <font color='red'>odometer_km</font> and <font color='red'>price</font> columns. Here's the steps we'll take:\n",
    "\n",
    "- Analyze the columns using minimum and maximum values and look for any values that look unrealistically high or low (outliers) that we might want to remove.\n",
    "\n",
    "- We'll use:\n",
    "    - <font color='red'>Series.unique().shape</font> to see how many unique values\n",
    "    - <font color='red'>Series.describe()</font> to view min/max/median/mean etc\n",
    "    - <font color='red'>Series.value_counts()</font>, with some variations:\n",
    "        - chained to <font color='red'>.head()</font> if there are lots of values.\n",
    "        - Because <font color='red'>Series.value_counts()</font> returns a series, we can use <font color='red'>Series.sort_index()</font> with <font color='red'>ascending= True</font> or <font color='red'>False</font> to view the highest and lowest values with their counts (can also chain to <font color='red'>head()</font> here)."
   ]
  },
  {
   "cell_type": "code",
   "execution_count": 7,
   "metadata": {
    "collapsed": false
   },
   "outputs": [
    {
     "name": "stdout",
     "output_type": "stream",
     "text": [
      "odometer_km column: \n",
      " (13,) \n",
      " \n",
      " count     50000.000000\n",
      "mean     125732.700000\n",
      "std       40042.211706\n",
      "min        5000.000000\n",
      "25%      125000.000000\n",
      "50%      150000.000000\n",
      "75%      150000.000000\n",
      "max      150000.000000\n",
      "Name: odometer_km, dtype: float64 \n",
      " \n",
      " 5000.0      967\n",
      "10000.0     264\n",
      "20000.0     784\n",
      "30000.0     789\n",
      "40000.0     819\n",
      "50000.0    1027\n",
      "60000.0    1164\n",
      "70000.0    1230\n",
      "80000.0    1436\n",
      "90000.0    1757\n",
      "Name: odometer_km, dtype: int64 \n",
      " \n",
      " 150000.0    32424\n",
      "125000.0     5170\n",
      "100000.0     2169\n",
      "90000.0      1757\n",
      "80000.0      1436\n",
      "70000.0      1230\n",
      "60000.0      1164\n",
      "50000.0      1027\n",
      "40000.0       819\n",
      "30000.0       789\n",
      "Name: odometer_km, dtype: int64 \n",
      " \n",
      "\n"
     ]
    }
   ],
   "source": [
    "print('odometer_km column:','\\n',\n",
    "      autos['odometer_km'].unique().shape, '\\n','\\n',\n",
    "      autos['odometer_km'].describe(),'\\n','\\n',\n",
    "      autos['odometer_km'].value_counts().sort_index(ascending= True).head(10),'\\n','\\n',\n",
    "      autos['odometer_km'].value_counts().sort_index(ascending= False).head(10),'\\n','\\n',\n",
    "      )"
   ]
  },
  {
   "cell_type": "markdown",
   "metadata": {},
   "source": [
    "We can see that the values in 'odometer_km' field are rounded, which might indicate that sellers had to choose from pre-set options for this field. Additionally, there are more high mileage than low mileage vehicles."
   ]
  },
  {
   "cell_type": "code",
   "execution_count": 8,
   "metadata": {
    "collapsed": false
   },
   "outputs": [
    {
     "name": "stdout",
     "output_type": "stream",
     "text": [
      "price column: \n",
      " (2357,) \n",
      " \n",
      " count    5.000000e+04\n",
      "mean     9.840044e+03\n",
      "std      4.811044e+05\n",
      "min      0.000000e+00\n",
      "25%      1.100000e+03\n",
      "50%      2.950000e+03\n",
      "75%      7.200000e+03\n",
      "max      1.000000e+08\n",
      "Name: price, dtype: float64 \n",
      " \n",
      " 0.0     1421\n",
      "1.0      156\n",
      "2.0        3\n",
      "3.0        1\n",
      "5.0        2\n",
      "8.0        1\n",
      "9.0        1\n",
      "10.0       7\n",
      "11.0       2\n",
      "12.0       3\n",
      "Name: price, dtype: int64 \n",
      " \n",
      " 99999999.0    1\n",
      "27322222.0    1\n",
      "12345678.0    3\n",
      "11111111.0    2\n",
      "10000000.0    1\n",
      "3890000.0     1\n",
      "1300000.0     1\n",
      "1234566.0     1\n",
      "999999.0      2\n",
      "999990.0      1\n",
      "Name: price, dtype: int64 \n",
      " \n",
      "\n"
     ]
    }
   ],
   "source": [
    "print('price column:','\\n',\n",
    "      autos['price'].unique().shape, '\\n','\\n',\n",
    "      autos['price'].describe(), '\\n','\\n',\n",
    "      autos['price'].value_counts().sort_index(ascending= True).head(10), '\\n','\\n',\n",
    "      autos['price'].value_counts().sort_index(ascending= False).head(10),'\\n','\\n',\n",
    "      )"
   ]
  },
  {
   "cell_type": "markdown",
   "metadata": {},
   "source": [
    "Again, the prices in 'prices' column seem rounded, however given there are 2357 unique values in the column, that may just be people's tendency to round prices on the site.\n",
    "\n",
    "There are a number of listings with prices below \\$15, including about 1,500 at \\$0. There are also a small number of listings with very high values, including 14 at around or over $1 million.\n",
    "\n",
    "Given that eBay is an auction site, there could legitimately be items where the opening bid is \\$1. We will keep the \\$1 items, but remove anything above \\$350,000."
   ]
  },
  {
   "cell_type": "code",
   "execution_count": 9,
   "metadata": {
    "collapsed": false
   },
   "outputs": [
    {
     "data": {
      "text/plain": [
       "count     48565.000000\n",
       "mean       5888.935591\n",
       "std        9059.854754\n",
       "min           1.000000\n",
       "25%        1200.000000\n",
       "50%        3000.000000\n",
       "75%        7490.000000\n",
       "max      350000.000000\n",
       "Name: price, dtype: float64"
      ]
     },
     "execution_count": 9,
     "metadata": {},
     "output_type": "execute_result"
    }
   ],
   "source": [
    "autos = autos[autos[\"price\"].between(1,351000)]\n",
    "autos[\"price\"].describe()"
   ]
  },
  {
   "cell_type": "markdown",
   "metadata": {},
   "source": [
    "There are 5 columns that should represent date values. Some of these columns were created by the crawler, some came from the website itself. We can differentiate by referring to the data dictionary:\n",
    "\n",
    "- `date_crawled`: added by the crawler\n",
    "- `last_seen`: added by the crawler\n",
    "- `ad_created`: from the website\n",
    "- `registration_month`: from the website\n",
    "- `registration_year`: from the website\n",
    "\n",
    "Let's first understand how the values in the three string columns are formatted. These columns all represent full timestamp values, like so:"
   ]
  },
  {
   "cell_type": "code",
   "execution_count": 10,
   "metadata": {
    "collapsed": false
   },
   "outputs": [
    {
     "data": {
      "text/html": [
       "<div>\n",
       "<style scoped>\n",
       "    .dataframe tbody tr th:only-of-type {\n",
       "        vertical-align: middle;\n",
       "    }\n",
       "\n",
       "    .dataframe tbody tr th {\n",
       "        vertical-align: top;\n",
       "    }\n",
       "\n",
       "    .dataframe thead th {\n",
       "        text-align: right;\n",
       "    }\n",
       "</style>\n",
       "<table border=\"1\" class=\"dataframe\">\n",
       "  <thead>\n",
       "    <tr style=\"text-align: right;\">\n",
       "      <th></th>\n",
       "      <th>date_crawled</th>\n",
       "      <th>ad_created</th>\n",
       "      <th>last_seen</th>\n",
       "    </tr>\n",
       "  </thead>\n",
       "  <tbody>\n",
       "    <tr>\n",
       "      <th>0</th>\n",
       "      <td>2016-03-26 17:47:46</td>\n",
       "      <td>2016-03-26 00:00:00</td>\n",
       "      <td>2016-04-06 06:45:54</td>\n",
       "    </tr>\n",
       "    <tr>\n",
       "      <th>1</th>\n",
       "      <td>2016-04-04 13:38:56</td>\n",
       "      <td>2016-04-04 00:00:00</td>\n",
       "      <td>2016-04-06 14:45:08</td>\n",
       "    </tr>\n",
       "    <tr>\n",
       "      <th>2</th>\n",
       "      <td>2016-03-26 18:57:24</td>\n",
       "      <td>2016-03-26 00:00:00</td>\n",
       "      <td>2016-04-06 20:15:37</td>\n",
       "    </tr>\n",
       "    <tr>\n",
       "      <th>3</th>\n",
       "      <td>2016-03-12 16:58:10</td>\n",
       "      <td>2016-03-12 00:00:00</td>\n",
       "      <td>2016-03-15 03:16:28</td>\n",
       "    </tr>\n",
       "    <tr>\n",
       "      <th>4</th>\n",
       "      <td>2016-04-01 14:38:50</td>\n",
       "      <td>2016-04-01 00:00:00</td>\n",
       "      <td>2016-04-01 14:38:50</td>\n",
       "    </tr>\n",
       "  </tbody>\n",
       "</table>\n",
       "</div>"
      ],
      "text/plain": [
       "          date_crawled           ad_created            last_seen\n",
       "0  2016-03-26 17:47:46  2016-03-26 00:00:00  2016-04-06 06:45:54\n",
       "1  2016-04-04 13:38:56  2016-04-04 00:00:00  2016-04-06 14:45:08\n",
       "2  2016-03-26 18:57:24  2016-03-26 00:00:00  2016-04-06 20:15:37\n",
       "3  2016-03-12 16:58:10  2016-03-12 00:00:00  2016-03-15 03:16:28\n",
       "4  2016-04-01 14:38:50  2016-04-01 00:00:00  2016-04-01 14:38:50"
      ]
     },
     "execution_count": 10,
     "metadata": {},
     "output_type": "execute_result"
    }
   ],
   "source": [
    "autos[['date_crawled','ad_created','last_seen']][0:5]"
   ]
  },
  {
   "cell_type": "markdown",
   "metadata": {},
   "source": [
    "You'll notice that the first 10 characters represent the day (e.g. 2016-03-12). To understand the date range, we can extract just the date values, use Series.value_counts() to generate a distribution, and then sort by the index."
   ]
  },
  {
   "cell_type": "code",
   "execution_count": 11,
   "metadata": {
    "collapsed": false
   },
   "outputs": [
    {
     "data": {
      "text/plain": [
       "2016-03-05    0.025327\n",
       "2016-03-06    0.014043\n",
       "2016-03-07    0.036014\n",
       "2016-03-08    0.033296\n",
       "2016-03-09    0.033090\n",
       "2016-03-10    0.032184\n",
       "2016-03-11    0.032575\n",
       "2016-03-12    0.036920\n",
       "2016-03-13    0.015670\n",
       "2016-03-14    0.036549\n",
       "2016-03-15    0.034284\n",
       "2016-03-16    0.029610\n",
       "2016-03-17    0.031628\n",
       "2016-03-18    0.012911\n",
       "2016-03-19    0.034778\n",
       "2016-03-20    0.037887\n",
       "2016-03-21    0.037373\n",
       "2016-03-22    0.032987\n",
       "2016-03-23    0.032225\n",
       "2016-03-24    0.029342\n",
       "2016-03-25    0.031607\n",
       "2016-03-26    0.032204\n",
       "2016-03-27    0.031092\n",
       "2016-03-28    0.034860\n",
       "2016-03-29    0.034099\n",
       "2016-03-30    0.033687\n",
       "2016-03-31    0.031834\n",
       "2016-04-01    0.033687\n",
       "2016-04-02    0.035478\n",
       "2016-04-03    0.038608\n",
       "2016-04-04    0.036487\n",
       "2016-04-05    0.013096\n",
       "2016-04-06    0.003171\n",
       "2016-04-07    0.001400\n",
       "Name: date_crawled, dtype: float64"
      ]
     },
     "execution_count": 11,
     "metadata": {},
     "output_type": "execute_result"
    }
   ],
   "source": [
    "autos['date_crawled'] = autos['date_crawled'].str[:10]\n",
    "autos['ad_created'] = autos['ad_created'].str[:10]\n",
    "autos['last_seen'] = autos['last_seen'].str[:10]\n",
    "\n",
    "(autos['date_crawled']\n",
    "        .value_counts(normalize=True, dropna=False)\n",
    "        .sort_index()\n",
    ")"
   ]
  },
  {
   "cell_type": "markdown",
   "metadata": {},
   "source": [
    "It looks like the site was being crawled daily for about one month in March and April 2016. The distribution of lists scanned every day is about the same, with a slight increase on weekends."
   ]
  },
  {
   "cell_type": "code",
   "execution_count": 12,
   "metadata": {
    "collapsed": false
   },
   "outputs": [
    {
     "data": {
      "text/plain": [
       "2015-06-11    0.000021\n",
       "2015-08-10    0.000021\n",
       "2015-09-09    0.000021\n",
       "2015-11-10    0.000021\n",
       "2015-12-05    0.000021\n",
       "2015-12-30    0.000021\n",
       "2016-01-03    0.000021\n",
       "2016-01-07    0.000021\n",
       "2016-01-10    0.000041\n",
       "2016-01-13    0.000021\n",
       "2016-01-14    0.000021\n",
       "2016-01-16    0.000021\n",
       "2016-01-22    0.000021\n",
       "2016-01-27    0.000062\n",
       "2016-01-29    0.000021\n",
       "2016-02-01    0.000021\n",
       "2016-02-02    0.000041\n",
       "2016-02-05    0.000041\n",
       "2016-02-07    0.000021\n",
       "2016-02-08    0.000021\n",
       "2016-02-09    0.000021\n",
       "2016-02-11    0.000021\n",
       "2016-02-12    0.000041\n",
       "2016-02-14    0.000041\n",
       "2016-02-16    0.000021\n",
       "2016-02-17    0.000021\n",
       "2016-02-18    0.000041\n",
       "2016-02-19    0.000062\n",
       "2016-02-20    0.000041\n",
       "2016-02-21    0.000062\n",
       "                ...   \n",
       "2016-03-09    0.033151\n",
       "2016-03-10    0.031895\n",
       "2016-03-11    0.032904\n",
       "2016-03-12    0.036755\n",
       "2016-03-13    0.017008\n",
       "2016-03-14    0.035190\n",
       "2016-03-15    0.034016\n",
       "2016-03-16    0.030125\n",
       "2016-03-17    0.031278\n",
       "2016-03-18    0.013590\n",
       "2016-03-19    0.033687\n",
       "2016-03-20    0.037949\n",
       "2016-03-21    0.037579\n",
       "2016-03-22    0.032801\n",
       "2016-03-23    0.032060\n",
       "2016-03-24    0.029280\n",
       "2016-03-25    0.031751\n",
       "2016-03-26    0.032266\n",
       "2016-03-27    0.030989\n",
       "2016-03-28    0.034984\n",
       "2016-03-29    0.034037\n",
       "2016-03-30    0.033501\n",
       "2016-03-31    0.031875\n",
       "2016-04-01    0.033687\n",
       "2016-04-02    0.035149\n",
       "2016-04-03    0.038855\n",
       "2016-04-04    0.036858\n",
       "2016-04-05    0.011819\n",
       "2016-04-06    0.003253\n",
       "2016-04-07    0.001256\n",
       "Name: ad_created, Length: 76, dtype: float64"
      ]
     },
     "execution_count": 12,
     "metadata": {},
     "output_type": "execute_result"
    }
   ],
   "source": [
    "(autos['ad_created']\n",
    "        .value_counts(normalize=True, dropna=False)\n",
    "        .sort_index()\n",
    ")"
   ]
  },
  {
   "cell_type": "markdown",
   "metadata": {},
   "source": [
    "There is a large variety of ad created dates. Most fall within 1-2 months of the listing date, but a few are quite old, with the oldest at around 9 months."
   ]
  },
  {
   "cell_type": "code",
   "execution_count": 13,
   "metadata": {
    "collapsed": false
   },
   "outputs": [
    {
     "data": {
      "text/plain": [
       "2016-03-05    0.001071\n",
       "2016-03-06    0.004324\n",
       "2016-03-07    0.005395\n",
       "2016-03-18    0.007351\n",
       "2016-03-08    0.007413\n",
       "2016-03-13    0.008895\n",
       "2016-03-09    0.009595\n",
       "2016-03-10    0.010666\n",
       "2016-03-11    0.012375\n",
       "2016-03-14    0.012602\n",
       "2016-03-27    0.015649\n",
       "2016-03-19    0.015834\n",
       "2016-03-15    0.015876\n",
       "2016-03-16    0.016452\n",
       "2016-03-26    0.016802\n",
       "2016-03-23    0.018532\n",
       "2016-03-25    0.019211\n",
       "2016-03-24    0.019767\n",
       "2016-03-21    0.020632\n",
       "2016-03-20    0.020653\n",
       "2016-03-28    0.020859\n",
       "2016-03-22    0.021373\n",
       "2016-03-29    0.022341\n",
       "2016-04-01    0.022794\n",
       "2016-03-31    0.023783\n",
       "2016-03-12    0.023783\n",
       "2016-04-04    0.024483\n",
       "2016-03-30    0.024771\n",
       "2016-04-02    0.024915\n",
       "2016-04-03    0.025203\n",
       "2016-03-17    0.028086\n",
       "2016-04-05    0.124761\n",
       "2016-04-07    0.131947\n",
       "2016-04-06    0.221806\n",
       "Name: last_seen, dtype: float64"
      ]
     },
     "execution_count": 13,
     "metadata": {},
     "output_type": "execute_result"
    }
   ],
   "source": [
    "(autos['last_seen']\n",
    "        .value_counts(normalize=True, dropna=False)\n",
    "        .sort_values()\n",
    ")"
   ]
  },
  {
   "cell_type": "markdown",
   "metadata": {},
   "source": [
    "The last three days contain a disproportionate amount of 'last seen' values. Given that these are 6-10x the values from the previous days, more likely that these values are to do with the crawling period ending and don't indicate car sales."
   ]
  },
  {
   "cell_type": "code",
   "execution_count": 14,
   "metadata": {
    "collapsed": false
   },
   "outputs": [
    {
     "data": {
      "text/plain": [
       "count    48565.000000\n",
       "mean      2004.755421\n",
       "std         88.643887\n",
       "min       1000.000000\n",
       "25%       1999.000000\n",
       "50%       2004.000000\n",
       "75%       2008.000000\n",
       "max       9999.000000\n",
       "Name: registration_year, dtype: float64"
      ]
     },
     "execution_count": 14,
     "metadata": {},
     "output_type": "execute_result"
    }
   ],
   "source": [
    "autos['registration_year'].describe()"
   ]
  },
  {
   "cell_type": "markdown",
   "metadata": {},
   "source": [
    "In general, the distribution looks quite normal, but there are some outliers that need to be analyzed and removed from the table."
   ]
  },
  {
   "cell_type": "code",
   "execution_count": 15,
   "metadata": {
    "collapsed": false
   },
   "outputs": [
    {
     "data": {
      "text/plain": [
       "1000    0.000021\n",
       "1001    0.000021\n",
       "1111    0.000021\n",
       "1800    0.000041\n",
       "1910    0.000103\n",
       "1927    0.000021\n",
       "1929    0.000021\n",
       "1931    0.000021\n",
       "1934    0.000041\n",
       "1937    0.000082\n",
       "1938    0.000021\n",
       "1939    0.000021\n",
       "1941    0.000041\n",
       "1943    0.000021\n",
       "1948    0.000021\n",
       "1950    0.000062\n",
       "1951    0.000041\n",
       "1952    0.000021\n",
       "1953    0.000021\n",
       "1954    0.000041\n",
       "1955    0.000041\n",
       "1956    0.000082\n",
       "1957    0.000041\n",
       "1958    0.000082\n",
       "1959    0.000124\n",
       "1960    0.000474\n",
       "1961    0.000124\n",
       "1962    0.000082\n",
       "1963    0.000165\n",
       "1964    0.000247\n",
       "          ...   \n",
       "2000    0.064985\n",
       "2001    0.054278\n",
       "2002    0.051189\n",
       "2003    0.055575\n",
       "2004    0.055657\n",
       "2005    0.060455\n",
       "2006    0.054978\n",
       "2007    0.046886\n",
       "2008    0.045609\n",
       "2009    0.042932\n",
       "2010    0.032719\n",
       "2011    0.033419\n",
       "2012    0.026974\n",
       "2013    0.016535\n",
       "2014    0.013652\n",
       "2015    0.008072\n",
       "2016    0.025121\n",
       "2017    0.028663\n",
       "2018    0.009678\n",
       "2019    0.000041\n",
       "2800    0.000021\n",
       "4100    0.000021\n",
       "4500    0.000021\n",
       "4800    0.000021\n",
       "5000    0.000082\n",
       "5911    0.000021\n",
       "6200    0.000021\n",
       "8888    0.000021\n",
       "9000    0.000021\n",
       "9999    0.000062\n",
       "Name: registration_year, Length: 95, dtype: float64"
      ]
     },
     "execution_count": 15,
     "metadata": {},
     "output_type": "execute_result"
    }
   ],
   "source": [
    "(autos['registration_year']\n",
    "        .value_counts(normalize=True, dropna=False)\n",
    "        .sort_index()\n",
    ")"
   ]
  },
  {
   "cell_type": "markdown",
   "metadata": {},
   "source": [
    "Because a car can't be first registered after the listing was seen, any vehicle with a registration year above 2016 is definitely inaccurate. Determining the earliest valid year is more difficult. Realistically, it could be somewhere in the first few decades of the 1900s.\n",
    "\n",
    "Let's count the number of listings with cars that fall outside the 1900 - 2016 interval and see if it's safe to remove those rows entirely, or if we need more custom logic."
   ]
  },
  {
   "cell_type": "code",
   "execution_count": 16,
   "metadata": {
    "collapsed": false
   },
   "outputs": [
    {
     "data": {
      "text/plain": [
       "2000    0.067608\n",
       "2005    0.062895\n",
       "1999    0.062060\n",
       "2004    0.057904\n",
       "2003    0.057818\n",
       "2006    0.057197\n",
       "2001    0.056468\n",
       "2002    0.053255\n",
       "1998    0.050620\n",
       "2007    0.048778\n",
       "2008    0.047450\n",
       "2009    0.044665\n",
       "1997    0.041794\n",
       "2011    0.034768\n",
       "2010    0.034040\n",
       "1996    0.029412\n",
       "2012    0.028063\n",
       "1995    0.026285\n",
       "2016    0.026135\n",
       "2013    0.017202\n",
       "2014    0.014203\n",
       "1994    0.013474\n",
       "1993    0.009104\n",
       "2015    0.008397\n",
       "1992    0.007926\n",
       "1990    0.007433\n",
       "1991    0.007262\n",
       "1989    0.003727\n",
       "1988    0.002892\n",
       "1985    0.002035\n",
       "          ...   \n",
       "1966    0.000471\n",
       "1976    0.000450\n",
       "1969    0.000407\n",
       "1975    0.000386\n",
       "1965    0.000364\n",
       "1964    0.000257\n",
       "1963    0.000171\n",
       "1959    0.000129\n",
       "1961    0.000129\n",
       "1910    0.000107\n",
       "1956    0.000086\n",
       "1958    0.000086\n",
       "1937    0.000086\n",
       "1962    0.000086\n",
       "1950    0.000064\n",
       "1954    0.000043\n",
       "1941    0.000043\n",
       "1951    0.000043\n",
       "1934    0.000043\n",
       "1957    0.000043\n",
       "1955    0.000043\n",
       "1953    0.000021\n",
       "1943    0.000021\n",
       "1929    0.000021\n",
       "1939    0.000021\n",
       "1938    0.000021\n",
       "1948    0.000021\n",
       "1927    0.000021\n",
       "1931    0.000021\n",
       "1952    0.000021\n",
       "Name: registration_year, Length: 78, dtype: float64"
      ]
     },
     "execution_count": 16,
     "metadata": {},
     "output_type": "execute_result"
    }
   ],
   "source": [
    "autos = autos[autos[\"registration_year\"].between(1900,2016)]\n",
    "autos[\"registration_year\"].value_counts(normalize=True)"
   ]
  },
  {
   "cell_type": "markdown",
   "metadata": {},
   "source": [
    "It looks like most of the cars have been registered in the last 20 years.\n",
    "\n",
    " When working with data on cars, it's natural to explore variations across different car brands. We can use aggregation to understand the <font color='red'>brand</font> column. We'll explore the unique values in this column, and select the top 20 brands."
   ]
  },
  {
   "cell_type": "code",
   "execution_count": 17,
   "metadata": {
    "collapsed": false
   },
   "outputs": [
    {
     "name": "stdout",
     "output_type": "stream",
     "text": [
      "volkswagen       9862\n",
      "bmw              5137\n",
      "opel             5022\n",
      "mercedes_benz    4503\n",
      "audi             4041\n",
      "ford             3263\n",
      "renault          2201\n",
      "peugeot          1393\n",
      "fiat             1197\n",
      "seat              853\n",
      "Name: brand, dtype: int64\n"
     ]
    }
   ],
   "source": [
    "brands = autos[\"brand\"].value_counts().head(10)\n",
    "print(brands)"
   ]
  },
  {
   "cell_type": "markdown",
   "metadata": {},
   "source": [
    "Volkswagen is by far the most popular brand, with approximately double the cars for sale of the next two brands combined.\n",
    "\n",
    "Let's take a look at the average car price of the 10 most popular brands."
   ]
  },
  {
   "cell_type": "code",
   "execution_count": 45,
   "metadata": {
    "collapsed": false
   },
   "outputs": [
    {
     "data": {
      "text/html": [
       "<div>\n",
       "<style scoped>\n",
       "    .dataframe tbody tr th:only-of-type {\n",
       "        vertical-align: middle;\n",
       "    }\n",
       "\n",
       "    .dataframe tbody tr th {\n",
       "        vertical-align: top;\n",
       "    }\n",
       "\n",
       "    .dataframe thead th {\n",
       "        text-align: right;\n",
       "    }\n",
       "</style>\n",
       "<table border=\"1\" class=\"dataframe\">\n",
       "  <thead>\n",
       "    <tr style=\"text-align: right;\">\n",
       "      <th></th>\n",
       "      <th>mean_price</th>\n",
       "      <th>mean_mileage</th>\n",
       "    </tr>\n",
       "  </thead>\n",
       "  <tbody>\n",
       "    <tr>\n",
       "      <th>audi</th>\n",
       "      <td>9336</td>\n",
       "      <td>129157</td>\n",
       "    </tr>\n",
       "    <tr>\n",
       "      <th>bmw</th>\n",
       "      <td>8332</td>\n",
       "      <td>132572</td>\n",
       "    </tr>\n",
       "    <tr>\n",
       "      <th>fiat</th>\n",
       "      <td>2813</td>\n",
       "      <td>117121</td>\n",
       "    </tr>\n",
       "    <tr>\n",
       "      <th>ford</th>\n",
       "      <td>3749</td>\n",
       "      <td>124266</td>\n",
       "    </tr>\n",
       "    <tr>\n",
       "      <th>mercedes_benz</th>\n",
       "      <td>8628</td>\n",
       "      <td>130788</td>\n",
       "    </tr>\n",
       "    <tr>\n",
       "      <th>opel</th>\n",
       "      <td>2975</td>\n",
       "      <td>129310</td>\n",
       "    </tr>\n",
       "    <tr>\n",
       "      <th>peugeot</th>\n",
       "      <td>3094</td>\n",
       "      <td>127153</td>\n",
       "    </tr>\n",
       "    <tr>\n",
       "      <th>renault</th>\n",
       "      <td>2474</td>\n",
       "      <td>128071</td>\n",
       "    </tr>\n",
       "    <tr>\n",
       "      <th>seat</th>\n",
       "      <td>4397</td>\n",
       "      <td>121131</td>\n",
       "    </tr>\n",
       "    <tr>\n",
       "      <th>volkswagen</th>\n",
       "      <td>5402</td>\n",
       "      <td>128707</td>\n",
       "    </tr>\n",
       "  </tbody>\n",
       "</table>\n",
       "</div>"
      ],
      "text/plain": [
       "               mean_price  mean_mileage\n",
       "audi                 9336        129157\n",
       "bmw                  8332        132572\n",
       "fiat                 2813        117121\n",
       "ford                 3749        124266\n",
       "mercedes_benz        8628        130788\n",
       "opel                 2975        129310\n",
       "peugeot              3094        127153\n",
       "renault              2474        128071\n",
       "seat                 4397        121131\n",
       "volkswagen           5402        128707"
      ]
     },
     "execution_count": 45,
     "metadata": {},
     "output_type": "execute_result"
    }
   ],
   "source": [
    "avr_price = {}\n",
    "avr_odometer = {}\n",
    "for el in brands.index:\n",
    "    \n",
    "    pr = autos.loc[autos['brand'] == el, 'price'].mean()\n",
    "    odo = autos.loc[autos['brand'] == el, 'odometer_km'].mean()\n",
    "    avr_price[el] = avr_price.get(el, 0) + int(pr)\n",
    "    avr_odometer[el] = avr_odometer.get(el, 0) + int(odo)\n",
    "\n",
    "    \n",
    "bmp_series = pd.Series(avr_price)\n",
    "df = pd.DataFrame(bmp_series, columns=['mean_price'])\n",
    "m_m = pd.Series(avr_odometer)\n",
    "df['mean_mileage'] = m_m\n",
    "df"
   ]
  },
  {
   "cell_type": "markdown",
   "metadata": {},
   "source": [
    "Of the top 10 brands, there is a distinct price gap:\n",
    "\n",
    "Audi, BMW and Mercedes Benz are more expensive\n",
    "Ford, Opel, Peugeot, Fiat, Renault are less expensive\n",
    "Volkswagen is in between - this may explain its popularity, it may be a 'best of both worlds' option. The range of car mileages does not vary as much as the prices do by brand."
   ]
  },
  {
   "cell_type": "code",
   "execution_count": null,
   "metadata": {
    "collapsed": false
   },
   "outputs": [],
   "source": []
  },
  {
   "cell_type": "code",
   "execution_count": null,
   "metadata": {
    "collapsed": true
   },
   "outputs": [],
   "source": []
  }
 ],
 "metadata": {
  "kernelspec": {
   "display_name": "Python 3",
   "language": "python",
   "name": "python3"
  },
  "language_info": {
   "codemirror_mode": {
    "name": "ipython",
    "version": 3
   },
   "file_extension": ".py",
   "mimetype": "text/x-python",
   "name": "python",
   "nbconvert_exporter": "python",
   "pygments_lexer": "ipython3",
   "version": "3.4.3"
  }
 },
 "nbformat": 4,
 "nbformat_minor": 2
}
