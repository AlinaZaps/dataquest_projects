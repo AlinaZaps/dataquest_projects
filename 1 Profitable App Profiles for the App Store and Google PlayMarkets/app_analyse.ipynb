pps.append(name)\n",
    "    print(len(dupl_apps))\n",
    "    reviews_max = {}\n",
    "    for app in lst:\n",
    "        name = app[name_index]\n",
    "        n_reviews = float(app[review_index])\n",
    "        \n",
    "        if (name in reviews_max) and (reviews_max[name] <  n_reviews):\n",
    "            reviews_max[name] = n_reviews\n",
    "        elif name not in reviews_max:\n",
    "                reviews_max[name] = n_reviews\n",
    "\n",
    "    apps_clean = []\n",
    "    already_added = []\n",
    "\n",
    "    for app in lst:\n",
    "        name = app[name_index]\n",
    "        n_reviews = float(app[review_index])\n",
    "\n",
    "        if (reviews_max[name] == n_reviews) and (name not in already_added):\n",
    "            apps_clean.append(app)\n",
    "            already_added.append(name)\n",
    "    return apps_clean\n",
    "\n",
    "\n",
    "# iOS_clear = del_duplicate(iOS_apps, 2, 6) \n",
    "Android_apps = del_duplicate(Android_apps, 0, 3)\n",
    "\n",
    "# print('Length of iOS set without duplicates:', len(iOS_clear))\n",
    "print('Length of Android set without duplicates:', len(Android_apps))"
   ]
  },
  {
   "cell_type": "code",
   "execution_count": 5,
   "metadata": {},
   "outputs": [
    {
     "name": "stdout",
     "output_type": "stream",
     "text": [
      "9614\n",
      "6183\n"
     ]
    }
   ],
   "source": [
    "def remove_noneng_apps(apps_set, name_index):\n",
    "    eng_set = []\n",
    "    for app in apps_set:\n",
    "        counter = 0\n",
    "        for el in app[name_index]:\n",
    "            if ord(el) > 128:\n",
    "                counter += 1\n",
    "        if counter > 3:\n",
    "            continue\n",
    "        else:\n",
    "            eng_set.append(app)\n",
    "    return eng_set\n",
    "\n",
    "Android_apps = remove_noneng_apps(Android_apps, 0)\n",
    "iOS_apps = remove_noneng_apps(iOS_apps, 2)\n",
    "\n",
    "print(len(Android_apps))\n",
    "print(len(iOS_apps))\n"
   ]
  },
  {
   "cell_type": "code",
   "execution_count": 6,
   "metadata": {},
   "outputs": [
    {
     "name": "stdout",
     "output_type": "stream",
     "text": [
      "8864\n",
      "3222\n"
     ]
    }
   ],
   "source": [
    "def isolate_free_apps(apps_set, price_index):\n",
    "    free_apps = []\n",
    "    for app in apps_set:\n",
    "        if not float(app[price_index].strip('$')):\n",
    "            free_apps.append(app)\n",
    "    return free_apps\n",
    "\n",
    "Android_apps = isolate_free_apps(Android_apps, 7)\n",
    "iOS_apps = isolate_free_apps(iOS_apps, 5)\n",
    "\n",
    "print(len(Android_apps))\n",
    "print(len(iOS_apps))"
   ]
  },
  {
   "cell_type": "markdown",
   "metadata": {},
   "source": [
    "To minimize risks and overhead, our validation strategy for an app idea is comprised of three steps:\n",
    "\n",
    "- Build a minimal Android version of the app, and add it to Google Play.\n",
    "- If the app has a good response from users, we then develop it further.\n",
    "- If the app is profitable after six months, we also build an iOS version of the app and add it to the App Store.\n",
    "\n",
    "Because our end goal is to add the app on both the App Store and Google Play, we need to find app profiles that are successful on both markets. For instance, a profile that might work well for both markets might be a productivity app that makes use of gamification.\n",
    "\n",
    "Let's begin the analysis by getting a sense of the most common genres for each market. For this, we'll build a frequency table for the prime_genre column of the App Store data set, and the Genres and Category columns of the Google Play data set."
   ]
  },
  {
   "cell_type": "code",
   "execution_count": 7,
   "metadata": {
    "scrolled": false
   },
   "outputs": [
    {
     "name": "stdout",
     "output_type": "stream",
     "text": [
      "iOS apps:\n"
     ]
    },
    {
     "data": {
      "text/plain": [
       "{'Productivity': 1.7380509000620732,\n",
       " 'Weather': 0.8690254500310366,\n",
       " 'Shopping': 2.60707635009311,\n",
       " 'Reference': 0.5586592178770949,\n",
       " 'Finance': 1.1173184357541899,\n",
       " 'Music': 2.0484171322160147,\n",
       " 'Utilities': 2.5139664804469275,\n",
       " 'Travel': 1.2414649286157666,\n",
       " 'Social Networking': 3.2898820608317814,\n",
       " 'Sports': 2.1415270018621975,\n",
       " 'Health & Fitness': 2.0173805090006205,\n",
       " 'Games': 58.16263190564867,\n",
       " 'Food & Drink': 0.8069522036002483,\n",
       " 'News': 1.3345747982619491,\n",
       " 'Book': 0.4345127250155183,\n",
       " 'Photo & Video': 4.9658597144630665,\n",
       " 'Entertainment': 7.883302296710118,\n",
       " 'Business': 0.5276225946617008,\n",
       " 'Lifestyle': 1.5828677839851024,\n",
       " 'Education': 3.662321539416512,\n",
       " 'Navigation': 0.186219739292365,\n",
       " 'Medical': 0.186219739292365,\n",
       " 'Catalogs': 0.12414649286157665}"
      ]
     },
     "execution_count": 7,
     "metadata": {},
     "output_type": "execute_result"
    }
   ],
   "source": [
    "def frequency_table(apps_set, genre_index, table=True):\n",
    "    frq_dict = {}\n",
    "    frq_list = []\n",
    "    total = 0\n",
    "    for row in apps_set:\n",
    "        value = row[genre_index]\n",
    "        frq_dict[value] = frq_dict.get(value, 0) + 1\n",
    "        total += 1\n",
    "        \n",
    "    for key in frq_dict:\n",
    "        frq_dict[key] = (frq_dict[key] / total) * 100\n",
    "    \n",
    "    return frq_dict\n",
    "    \n",
    "    if table:\n",
    "        frq_list = sorted(frq_dict.items(), key=lambda frq_list: frq_list[1], reverse=True)\n",
    "\n",
    "        for el in frq_list:\n",
    "            print(el[0], ':', el[1])\n",
    "\n",
    "print('iOS apps:')\n",
    "frequency_table(iOS_apps, 12)"
   ]
  },
  {
   "cell_type": "markdown",
   "metadata": {},
   "source": [
    "We can see that among the free English apps, more than a half (58.16%) are games. Entertainment apps are close to 8%, followed by photo and video apps, which are close to 5%. Only 3.66% of the apps are designed for education, followed by social networking apps which amount for 3.29% of the apps in our data set.\n",
    "\n",
    "The general impression is that App Store (at least the part containing free English apps) is dominated by apps that are designed for fun (games, entertainment, photo and video, social networking, sports, music, etc.). However, the fact that fun apps are the most numerous doesn't also imply that they also have the greatest number of users — the demand might not be the same as the offer."
   ]
  },
  {
   "cell_type": "code",
   "execution_count": 8,
   "metadata": {},
   "outputs": [
    {
     "name": "stdout",
     "output_type": "stream",
     "text": [
      "Android apps, categories:\n"
     ]
    },
    {
     "data": {
      "text/plain": [
       "{'ART_AND_DESIGN': 0.6430505415162455,\n",
       " 'AUTO_AND_VEHICLES': 0.9250902527075812,\n",
       " 'BEAUTY': 0.5979241877256317,\n",
       " 'BOOKS_AND_REFERENCE': 2.1435018050541514,\n",
       " 'BUSINESS': 4.591606498194946,\n",
       " 'COMICS': 0.6204873646209386,\n",
       " 'COMMUNICATION': 3.2378158844765346,\n",
       " 'DATING': 1.861462093862816,\n",
       " 'EDUCATION': 1.1620036101083033,\n",
       " 'ENTERTAINMENT': 0.9589350180505415,\n",
       " 'EVENTS': 0.7107400722021661,\n",
       " 'FINANCE': 3.7003610108303246,\n",
       " 'FOOD_AND_DRINK': 1.2409747292418771,\n",
       " 'HEALTH_AND_FITNESS': 3.0798736462093865,\n",
       " 'HOUSE_AND_HOME': 0.8235559566787004,\n",
       " 'LIBRARIES_AND_DEMO': 0.9363718411552346,\n",
       " 'LIFESTYLE': 3.9034296028880866,\n",
       " 'GAME': 9.724729241877256,\n",
       " 'FAMILY': 18.907942238267147,\n",
       " 'MEDICAL': 3.531137184115524,\n",
       " 'SOCIAL': 2.6624548736462095,\n",
       " 'SHOPPING': 2.2450361010830324,\n",
       " 'PHOTOGRAPHY': 2.944494584837545,\n",
       " 'SPORTS': 3.395758122743682,\n",
       " 'TRAVEL_AND_LOCAL': 2.33528880866426,\n",
       " 'TOOLS': 8.461191335740072,\n",
       " 'PERSONALIZATION': 3.3167870036101084,\n",
       " 'PRODUCTIVITY': 3.892148014440433,\n",
       " 'PARENTING': 0.6543321299638989,\n",
       " 'WEATHER': 0.8009927797833934,\n",
       " 'VIDEO_PLAYERS': 1.7937725631768955,\n",
       " 'NEWS_AND_MAGAZINES': 2.7978339350180503,\n",
       " 'MAPS_AND_NAVIGATION': 1.3989169675090252}"
      ]
     },
     "execution_count": 8,
     "metadata": {},
     "output_type": "execute_result"
    }
   ],
   "source": [
    "print('Android apps, categories:')\n",
    "frequency_table(Android_apps, 1)"
   ]
  },
  {
   "cell_type": "markdown",
   "metadata": {},
   "source": [
    "We can see that among the free English apps, more popular is 'family'. If we investigate this further, we can see that the family category (which accounts for almost 19% of the apps) means mostly games for kids.\n",
    "In any case, compared to iOS, it looks like a good number of apps in the Android market have practical purposes.\n",
    "This picture is also confirmed by the frequency table we see for the Genres column:"
   ]
  },
  {
   "cell_type": "code",
   "execution_count": 14,
   "metadata": {},
   "outputs": [],
   "source": [
    "# print('Android apps, genres:')\n",
    "# frequency_table(Android_apps, 9)"
   ]
  },
  {
   "cell_type": "markdown",
   "metadata": {},
   "source": [
    "The difference between genres and categories looks like the category is more homogeneous, it has fewer parameters. \n",
    "\n",
    "Up to this point, we found that the App Store is dominated by apps designed for fun, while Google Play shows a more balanced landscape of both practical and for-fun apps. Now we'd like to get an idea about the kind of apps that have most users."
   ]
  },
  {
   "cell_type": "code",
   "execution_count": 15,
   "metadata": {
    "scrolled": true
   },
   "outputs": [
    {
     "name": "stdout",
     "output_type": "stream",
     "text": [
      "Navigation : 86090.33333333333\n",
      "Reference : 74942.11111111111\n",
      "Social Networking : 71548.34905660378\n",
      "Music : 57326.530303030304\n",
      "Weather : 52279.892857142855\n",
      "Book : 39758.5\n",
      "Food & Drink : 33333.92307692308\n",
      "Finance : 31467.944444444445\n",
      "Photo & Video : 28441.54375\n",
      "Travel : 28243.8\n",
      "Shopping : 26919.690476190477\n",
      "Health & Fitness : 23298.015384615384\n",
      "Sports : 23008.898550724636\n",
      "Games : 22788.6696905016\n",
      "News : 21248.023255813954\n",
      "Productivity : 21028.410714285714\n",
      "Utilities : 18684.456790123455\n",
      "Lifestyle : 16485.764705882353\n",
      "Entertainment : 14029.830708661417\n",
      "Business : 7491.117647058823\n",
      "Education : 7003.983050847458\n",
      "Catalogs : 4004.0\n",
      "Medical : 612.0\n",
      "\n",
      "COMMUNICATION : 38456119.167247385\n",
      "VIDEO_PLAYERS : 24727872.452830188\n",
      "SOCIAL : 23253652.127118643\n",
      "PHOTOGRAPHY : 17840110.40229885\n",
      "PRODUCTIVITY : 16787331.344927534\n",
      "GAME : 15588015.603248259\n",
      "TRAVEL_AND_LOCAL : 13984077.710144928\n",
      "ENTERTAINMENT : 11640705.88235294\n",
      "TOOLS : 10801391.298666667\n",
      "NEWS_AND_MAGAZINES : 9549178.467741935\n",
      "BOOKS_AND_REFERENCE : 8767811.894736841\n",
      "SHOPPING : 7036877.311557789\n",
      "PERSONALIZATION : 5201482.6122448975\n",
      "WEATHER : 5074486.197183099\n",
      "HEALTH_AND_FITNESS : 4188821.9853479853\n",
      "MAPS_AND_NAVIGATION : 4056941.7741935486\n",
      "FAMILY : 3695641.8198090694\n",
      "SPORTS : 3638640.1428571427\n",
      "ART_AND_DESIGN : 1986335.0877192982\n",
      "FOOD_AND_DRINK : 1924897.7363636363\n",
      "EDUCATION : 1833495.145631068\n",
      "BUSINESS : 1712290.1474201474\n",
      "LIFESTYLE : 1437816.2687861272\n",
      "FINANCE : 1387692.475609756\n",
      "HOUSE_AND_HOME : 1331540.5616438356\n",
      "DATING : 854028.8303030303\n",
      "COMICS : 817657.2727272727\n",
      "AUTO_AND_VEHICLES : 647317.8170731707\n",
      "LIBRARIES_AND_DEMO : 638503.734939759\n",
      "PARENTING : 542603.6206896552\n",
      "BEAUTY : 513151.88679245283\n",
      "EVENTS : 253542.22222222222\n",
      "MEDICAL : 120550.61980830671\n"
     ]
    }
   ],
   "source": [
    "genres_ios = frequency_table(iOS_apps, -5, table=False)\n",
    "genres_android = frequency_table(Android_apps, 1, table=False)\n",
    "\n",
    "def rating_genres(data_set, dct, genre_index, rating_index):\n",
    "    genre_list = []\n",
    "    for genre in dct:\n",
    "        total_rating = 0\n",
    "        len_genre = 0\n",
    "        for row in data_set:\n",
    "            value = row[genre_index]\n",
    "            rating = row[rating_index]\n",
    "            if value == genre:\n",
    "                rating = float(row[rating_index].replace(',', '').replace('+', ''))\n",
    "                total_rating += rating\n",
    "                len_genre += 1\n",
    "        dct[genre] = total_rating / len_genre\n",
    "        \n",
    "    genre_list = sorted(dct.items(), key=lambda genre_list: genre_list[1], reverse=True)\n",
    "\n",
    "    \n",
    "    for el in genre_list:\n",
    "        print(el[0], ':', el[1])\n",
    "\n",
    "rating_genres(iOS_apps, genres_ios, -5, 6)\n",
    "print()\n",
    "rating_genres(Android_apps, genres_android, 1, 5)\n"
   ]
  },
  {
   "cell_type": "markdown",
   "metadata": {},
   "source": [
    "On average, communication apps have the most installs: 38,456,119. This number is heavily skewed up by a few apps that have over one billion installs (WhatsApp, Facebook Messenger, Skype, Google Chrome, Gmail, and Hangouts), and a few others with over 100 and 500 million installs. "
   ]
  },
  {
   "cell_type": "code",
   "execution_count": 16,
   "metadata": {
    "scrolled": true
   },
   "outputs": [
    {
     "name": "stdout",
     "output_type": "stream",
     "text": [
      "Facebook : 2974676.0\n",
      "Pinterest : 1061624.0\n",
      "Skype for iPhone : 373519.0\n",
      "Messenger : 351466.0\n",
      "Tumblr : 334293.0\n",
      "WhatsApp Messenger : 287589.0\n",
      "Kik : 260965.0\n",
      "ooVoo – Free Video Call, Text and Voice : 177501.0\n",
      "TextNow - Unlimited Text + Calls : 164963.0\n",
      "Viber Messenger – Text & Call : 164249.0\n",
      "\n",
      "WhatsApp Messenger : 1000000000.0\n",
      "Messenger – Text and Video Chat for Free : 1000000000.0\n",
      "Skype - free IM & video calls : 1000000000.0\n",
      "Google Chrome: Fast & Secure : 1000000000.0\n",
      "Gmail : 1000000000.0\n",
      "Facebook : 1000000000.0\n",
      "Google+ : 1000000000.0\n",
      "Instagram : 1000000000.0\n",
      "Facebook Lite : 500000000.0\n",
      "Snapchat : 500000000.0\n"
     ]
    }
   ],
   "source": [
    "def most_popular_apps(data_set,\n",
    "                      genre_str,\n",
    "                      genre_index,\n",
    "                      rating_index,\n",
    "                      name_index,\n",
    "                      apps_num_to_output=20,\n",
    "                      table=True,\n",
    "                      rtrn=False):\n",
    "    dct = {}\n",
    "    for app in data_set:\n",
    "        if app[genre_index] == genre_str:\n",
    "            rating = float(app[rating_index].replace(',', '').replace('+', ''))\n",
    "            dct[app[name_index]] = rating\n",
    "    \n",
    "    genre_list = sorted(dct.items(), key=lambda genre_list: genre_list[1], reverse=True)\n",
    "    if rtrn:\n",
    "        return genre_list\n",
    "    \n",
    "    if table: \n",
    "        for i in range(apps_num_to_output):\n",
    "            print(genre_list[i][0], ':', genre_list[i][1])\n",
    "\n",
    "most_popular_apps(iOS_apps,\n",
    "                  'Social Networking',\n",
    "                  genre_index=-5,\n",
    "                  rating_index=6,\n",
    "                  name_index=2,\n",
    "                  apps_num_to_output=10)\n",
    "print()\n",
    "most_popular_apps(Android_apps,\n",
    "                  'COMMUNICATION',\n",
    "                  genre_index=1,\n",
    "                  rating_index=5,\n",
    "                  name_index=0,\n",
    "                  apps_num_to_output=5)\n",
    "most_popular_apps(Android_apps,\n",
    "                  'SOCIAL',\n",
    "                  genre_index=1,\n",
    "                  rating_index=5,\n",
    "                  name_index=0,\n",
    "                  apps_num_to_output=5)"
   ]
  },
  {
   "cell_type": "markdown",
   "metadata": {},
   "source": [
    "We see the same pattern for the video players category, navigation, music, ect.  The pattern is repeated for social apps (where we have giants like Facebook, Instagram, Google+, etc.), photography apps (Google Photos and other popular photo editors), or productivity apps (Microsoft Word, Dropbox, Google Calendar, Evernote, etc.).\n",
    "\n",
    "The main concern is that these app genres might seem more popular than they really are. Moreover, these niches seem to be dominated by a few giants who are hard to compete against.\n",
    "\n",
    "The game genre seems pretty popular, but previously we found out this part of the market seems a bit saturated, so we'd like to come up with a different app recommendation if possible.\n",
    "\n",
    "The Health & Fitness genre looks fairly popular as well, with an average number of installs of 4,188,821. It's interesting to explore this in more depth, since we found this genre has some potential to work well on the App Store, and our aim is to recommend an app genre that shows potential for being profitable on both the App Store and Google Play.\n",
    "\n",
    "Let's take a look at some of the apps from this genre and their number of installs:"
   ]
  },
  {
   "cell_type": "code",
   "execution_count": 17,
   "metadata": {},
   "outputs": [
    {
     "name": "stdout",
     "output_type": "stream",
     "text": [
      "Calorie Counter & Diet Tracker by MyFitnessPal : 507706.0\n",
      "Lose It! – Weight Loss Program and Calorie Counter : 373835.0\n",
      "Weight Watchers : 136833.0\n",
      "Sleep Cycle alarm clock : 104539.0\n",
      "Fitbit : 90496.0\n",
      "Period Tracker Lite : 53620.0\n",
      "Nike+ Training Club - Workouts & Fitness Plans : 33969.0\n",
      "Plant Nanny - Water Reminder with Cute Plants : 27421.0\n",
      "Sworkit - Custom Workouts for Exercise & Fitness : 16819.0\n",
      "Clue Period Tracker: Period & Ovulation Tracker : 13436.0\n",
      "Headspace : 12819.0\n",
      "Fooducate - Lose Weight, Eat Healthy,Get Motivated : 11875.0\n",
      "Runtastic Running, Jogging and Walking Tracker : 10298.0\n",
      "WebMD for iPad : 9142.0\n",
      "8fit - Workouts, meal plans and personal trainer : 8730.0\n",
      "Garmin Connect™ Mobile : 8341.0\n",
      "Record by Under Armour, connects with UA HealthBox : 7754.0\n",
      "Fitstar Personal Trainer : 7496.0\n",
      "My Cycles Period and Ovulation Tracker : 7469.0\n",
      "Seven - 7 Minute Workout Training Challenge : 6808.0\n",
      "\n",
      "Samsung Health : 500000000.0\n",
      "Period Tracker - Period Calendar Ovulation Tracker : 100000000.0\n",
      "Calorie Counter - MyFitnessPal : 50000000.0\n",
      "Six Pack in 30 Days - Abs Workout : 10000000.0\n",
      "Lose Weight in 30 Days : 10000000.0\n",
      "Pedometer : 10000000.0\n",
      "LG Health : 10000000.0\n",
      "Step Counter - Pedometer Free & Calorie Counter : 10000000.0\n",
      "Pedometer, Step Counter & Weight Loss Tracker App : 10000000.0\n",
      "30 Day Fitness Challenge - Workout at Home : 10000000.0\n",
      "Fitbit : 10000000.0\n",
      "Garmin Connect™ : 10000000.0\n",
      "Runkeeper - GPS Track Run Walk : 10000000.0\n",
      "8fit Workouts & Meal Planner : 10000000.0\n",
      "Strava Training: Track Running, Cycling & Swimming : 10000000.0\n",
      "Workout Trainer: fitness coach : 10000000.0\n",
      "7 Minute Workout : 10000000.0\n",
      "Freeletics: Personal Trainer & Fitness Workouts : 10000000.0\n",
      "Daily Workouts - Exercise Fitness Routine Trainer : 10000000.0\n",
      "Google Fit - Fitness Tracking : 10000000.0\n"
     ]
    }
   ],
   "source": [
    "most_popular_apps(iOS_apps,\n",
    "                  'Health & Fitness',\n",
    "                  genre_index=-5,\n",
    "                  rating_index=6,\n",
    "                  name_index=2)\n",
    "print()\n",
    "most_popular_apps(Android_apps,\n",
    "                  'HEALTH_AND_FITNESS',\n",
    "                  genre_index=1,\n",
    "                  rating_index=5,\n",
    "                  name_index=0)"
   ]
  },
  {
   "cell_type": "markdown",
   "metadata": {},
   "source": [
    "The health and fitness genre includes many apps: calorie counting and food diary software, various sleep apps, home workout apps, fitness trackers, etc. There still seems to be a small number of extremely popular apps that skew the average.\n",
    "However, it looks like there are only a few very popular apps, so this market still shows potential. Let's try to get some app ideas based on the kind of apps that are somewhere in the middle in terms of popularity:"
   ]
  },
  {
   "cell_type": "code",
   "execution_count": 18,
   "metadata": {},
   "outputs": [
    {
     "name": "stdout",
     "output_type": "stream",
     "text": [
      "('Step Counter - Calorie Counter', 500000.0)\n",
      "('Buttocks and Abdomen', 500000.0)\n",
      "('Running & Jogging', 500000.0)\n",
      "('Cycling - Bike Tracker', 500000.0)\n",
      "('Aunjai i lert u', 500000.0)\n",
      "('Recipes for hair and face tried', 500000.0)\n",
      "('Couch to 10K Running Trainer', 500000.0)\n",
      "('Workout Tracker & Gym Trainer - Fitness Log Book', 500000.0)\n",
      "('Yoga - Track Yoga', 500000.0)\n",
      "('My Chakra Meditation', 500000.0)\n",
      "('Down Dog: Great Yoga Anywhere', 500000.0)\n",
      "('Simple Habit Meditation', 500000.0)\n",
      "('Pregnancy Tracker', 500000.0)\n",
      "('Spot On Period, Birth Control, & Cycle Tracker', 500000.0)\n",
      "('Map My Hike GPS Hiking', 500000.0)\n",
      "('10 Best Foods for You', 500000.0)\n",
      "('Health and Nutrition Guide', 500000.0)\n",
      "('Self Healing', 500000.0)\n",
      "('Pacifica - Stress & Anxiety', 500000.0)\n",
      "('White Sound Pro', 500000.0)\n",
      "('Self-help Anxiety Management', 500000.0)\n",
      "('Brain Waves - Binaural Beats', 500000.0)\n",
      "('7 Cups: Anxiety & Stress Chat', 500000.0)\n",
      "('f.lux (preview, root-only)', 500000.0)\n",
      "('H Band 2.0', 500000.0)\n",
      "('30 Day Ab Challenge', 500000.0)\n",
      "('Blood pressure', 500000.0)\n",
      "('Stop Smoking - EasyQuit free', 500000.0)\n",
      "('Fat Burning Workout - Home Weight lose', 100000.0)\n",
      "('Walking for Weight Loss - Walk Tracker', 100000.0)\n",
      "('Abs Training-Burn belly fat', 100000.0)\n",
      "('Six Packs for Man–Body Building with No Equipment', 100000.0)\n",
      "('The TK-App - everything under control', 100000.0)\n",
      "('Abs Workout - 30 Days Fitness App for Six Pack Abs', 100000.0)\n",
      "('Free Meditation - Take a Break', 100000.0)\n",
      "('Relax with Andrew Johnson Lite', 100000.0)\n",
      "('21-Day Meditation Experience', 100000.0)\n",
      "('My Chakra Meditation 2', 100000.0)\n",
      "('Yoga Studio: Mind & Body', 100000.0)\n",
      "('Calorie Counter - Macros', 100000.0)\n",
      "('Lark - 24/7 Health Coach', 100000.0)\n",
      "('Food Calorie Calculator', 100000.0)\n",
      "('Eat Fit - Diet and Health Free', 100000.0)\n",
      "('Happify', 100000.0)\n",
      "('Relaxing Sounds', 100000.0)\n",
      "('HPlus', 100000.0)\n",
      "('Abs, Core & Back Workout Challenge', 100000.0)\n",
      "('AB Mobile App', 100000.0)\n",
      "('ABS Workout - Belly workout, 30 days AB', 100000.0)\n",
      "('7 minute abs workout - Daily Ab Workout', 100000.0)\n",
      "('Sleep as Android Gear Addon', 100000.0)\n",
      "('Cures A-Z', 100000.0)\n",
      "('Blood Glucose Tracker', 100000.0)\n",
      "(\"Pharmacy CI - Pharmacies de garde Côte d'Ivoire\", 100000.0)\n",
      "('Pharmacie de Garde CI et Prix', 100000.0)\n",
      "('Florida Blue', 100000.0)\n"
     ]
    }
   ],
   "source": [
    "health_list = most_popular_apps(Android_apps,\n",
    "                                'HEALTH_AND_FITNESS',\n",
    "                                genre_index=1,\n",
    "                                rating_index=5,\n",
    "                                name_index=0,\n",
    "                                table=False,\n",
    "                                rtrn=True)\n",
    "\n",
    "print('\\n'.join(str(el) for el in health_list if 100000 <= el[1] < 1000000))"
   ]
  },
  {
   "cell_type": "markdown",
   "metadata": {},
   "source": [
    "It seems that this niche is dominated by software for calculating calories, periods and pregnancy tracking, so it's probably not a good idea to build similar apps since there'll be some significant competition.\n",
    "\n",
    "At the same time, we know that there is isolation around the world due to the COVID-19 pandemic. It is possible to create an application for home workouts (video tutorials), simple tips for the prevention of viral infections and hardening.\n",
    "\n",
    "However, it looks like the market is already full of home workout apps, so we need to add some special features beyond the core ones. This may include daily health tips, playlists of different workout genres and durations, create favorite video collections, alerts for new videos from selected coaches, share achievements on social media, and more.\n",
    "\n",
    "\n",
    "<h3>Conclusions</h3>\n",
    "\n",
    "In this project, we analyzed data about the App Store and Google Play mobile apps with the goal of recommending an app profile that can be profitable for both markets.\n",
    "\n",
    "We know that there is isolation around the world due to the COVID-19 pandemic. So, we concluded that It is possible to create an application for home workouts (video tutorials) that could be profitable for both the Google Play and the App Store markets. However, it looks like the market is already full of home workout apps, so we need to add some special features beyond the core ones. This may include daily health tips, create favorite video collections, alerts for new videos from selected coaches, share achievements on social media, and more.\n"
   ]
  },
  {
   "cell_type": "code",
   "execution_count": null,
   "metadata": {},
   "outputs": [],
   "source": []
  },
  {
   "cell_type": "code",
   "execution_count": null,
   "metadata": {},
   "outputs": [],
   "source": []
  }
 ],
 "metadata": {
  "kernelspec": {
   "display_name": "Python 3",
   "language": "python",
   "name": "python3"
  },
  "language_info": {
   "codemirror_mode": {
    "name": "ipython",
    "version": 3
   },
   "file_extension": ".py",
   "mimetype": "text/x-python",
   "name": "python",
   "nbconvert_exporter": "python",
   "pygments_lexer": "ipython3",
   "version": "3.7.6"
  }
 },
 "nbformat": 4,
 "nbformat_minor": 4
}
