{
 "cells": [
  {
   "cell_type": "markdown",
   "metadata": {
    "collapsed": true
   },
   "source": [
    "# Building a database for crime reports\n",
    "\n",
    "In this guided project, we will build a database for storing data related with crimes that occurred in Boston.\n",
    "\n",
    "The goal of this  project is \n",
    "- create a database <font color='blue'>crimes_db</font>.\n",
    "- create a table – <font color='blue'>boston_crimes</font> .\n",
    "- create the <font color='blue'>readonly</font> group of users, which have permission to read data only.\n",
    "- create the <font color='blue'>readwrite</font> group of users, which have permission to read data and alter data but not to delete tables.\n",
    "\n",
    "The following diagram illustrates a high level overview of what we want to achieve:\n",
    "\n",
    "![Image of Yaktocat](https://i.imgur.com/DCiYoMk.png)"
   ]
  },
  {
   "cell_type": "markdown",
   "metadata": {},
   "source": [
    "## Creating the database and the schema\n",
    "\n",
    "We will start by creating a database for storing our crime data as well as a schema for containing the tables.\n",
    "\n",
    "Since the <font color='blue'>crime_db</font> does not exist yet, we can create it by connecting to the <font color='blue'>dq</font> database."
   ]
  },
  {
   "cell_type": "code",
   "execution_count": 1,
   "metadata": {
    "collapsed": false
   },
   "outputs": [],
   "source": [
    "import psycopg2\n",
    "conn = psycopg2.connect(dbname='dq', user='dq')\n",
    "cur = conn.cursor()\n",
    "conn.autocommit = True\n",
    "\n",
    "cur.execute('CREATE DATABASE crime_db;')\n",
    "conn.autocommit = False\n",
    "conn.close()\n",
    "\n",
    "conn = psycopg2.connect(dbname='crime_db', user='dq')\n",
    "cur = conn.cursor()\n",
    "cur.execute('CREATE SCHEMA crimes;')\n"
   ]
  },
  {
   "cell_type": "markdown",
   "metadata": {},
   "source": [
    "## Obtaining the Column Names and Sample\n",
    "\n",
    "We now have a database and a schema — we are ready to start creating tables. Before we do that, let's gather some data about our crime dataset so that we can more easily select the right datatypes to use in our table.\n",
    "\n",
    "Let's start by reading the column names from the <font color='blue'>boston.csv</font> file as well as the first row. In this way we will have them at hand throughout this guided project so that we can easily take a look at them at any moment."
   ]
  },
  {
   "cell_type": "code",
   "execution_count": 2,
   "metadata": {
    "collapsed": false
   },
   "outputs": [
    {
     "name": "stdout",
     "output_type": "stream",
     "text": [
      "['incident_number', 'offense_code', 'description', 'date', 'day_of_the_week', 'lat', 'long']\n",
      "['1', '619', 'LARCENY ALL OTHERS', '2018-09-02', 'Sunday', '42.35779134', '-71.13937053']\n"
     ]
    }
   ],
   "source": [
    "import csv\n",
    "with open('boston.csv') as file:\n",
    "    reader = csv.reader(file)\n",
    "    boston_lst = list(reader)\n",
    "    col_headers = boston_lst[0]\n",
    "    first_row = boston_lst[1]\n",
    "    print(col_headers)\n",
    "    print(first_row)"
   ]
  },
  {
   "cell_type": "markdown",
   "metadata": {
    "collapsed": true
   },
   "source": [
    "## Creating a function for analyzing column values\n",
    "\n",
    "\n",
    "Before we create a table for storing the crime data, we need to identify the proper datatypes for the columns. \n",
    "To help us with that, let's create a function — <font color='blue'>et_col_value_set()</font> — that given the name of a CSV file and a column index (starting a 0) that computes a  <font color='blue'>Python set</font> with all distinct values contained in that column."
   ]
  },
  {
   "cell_type": "code",
   "execution_count": 3,
   "metadata": {
    "collapsed": true
   },
   "outputs": [],
   "source": [
    "def get_col_value_set(csv_file, col_index):\n",
    "    import csv\n",
    "    values = set()\n",
    "    with open(csv_file, 'r') as f:\n",
    "        next(f)\n",
    "        reader = csv.reader(f)\n",
    "        for row in reader:\n",
    "            values.add(row[col_index])\n",
    "    return len(values)"
   ]
  },
  {
   "cell_type": "code",
   "execution_count": 4,
   "metadata": {
    "collapsed": false
   },
   "outputs": [
    {
     "name": "stdout",
     "output_type": "stream",
     "text": [
      "['incident_number', 'offense_code', 'description', 'date', 'day_of_the_week', 'lat', 'long']\n"
     ]
    }
   ],
   "source": [
    "print(col_headers)"
   ]
  },
  {
   "cell_type": "code",
   "execution_count": 5,
   "metadata": {
    "collapsed": false
   },
   "outputs": [
    {
     "name": "stdout",
     "output_type": "stream",
     "text": [
      "incident_number:  298329\n",
      "offense_code:  219\n",
      "description:  239\n",
      "date:  1177\n",
      "day_of_the_week:  7\n",
      "lat:  18177\n",
      "long:  18177\n"
     ]
    }
   ],
   "source": [
    "descr_col =  get_col_value_set('boston.csv', 0)\n",
    "max_len = 0\n",
    "for i in range(len(col_headers)):\n",
    "    current_col =  get_col_value_set('boston.csv', i)\n",
    "    print(col_headers[i] + ':  ' + str(current_col))"
   ]
  },
  {
   "cell_type": "markdown",
   "metadata": {},
   "source": [
    "## Creating the table\n",
    "\n"
   ]
  },
  {
   "cell_type": "markdown",
   "metadata": {},
   "source": [
    "Let's create a table named <font color='blue'>boston_crimes()</font> inside the <font color='blue'>crimes</font> schema of the <font color='blue'>crime_db</font> database:\n",
    "\n",
    "- Colunm <font color='blue'>'incident_number'</font> will have INT4, max_len of this column is 6, but it has values greater than 32768.  \n",
    "- Colunm <font color='blue'>'offense_code'</font> will have INT2, max_len of this column is 4.  \n",
    "- Colunms <font color='blue'>'description'</font> will have  TEXT type. \n",
    "-  Colunms <font color='blue'>'day_of_the_week'</font> will have  WEEKDAYS type, we'll create it now.  \n",
    "- Colunm <font color='blue'>'date'</font>  will have  DATE type.\n",
    "- Colunms <font color='blue'>'lat'</font> and <font color='blue'>'long'</font> will have FLOAT8 type. FLOAT4 allows 6 digits, but our values are 10 digits. "
   ]
  },
  {
   "cell_type": "code",
   "execution_count": 6,
   "metadata": {
    "collapsed": false
   },
   "outputs": [],
   "source": [
    "cur.execute(\"CREATE TYPE weekdays AS ENUM ('Monday', 'Tuesday', 'Wednesday', 'Thursday', 'Friday', 'Saturday', 'Sunday');\")\n",
    "\n",
    "cur.execute('''CREATE TABLE crimes.boston_crimes (\n",
    "               incident_number INT4 PRIMARY KEY,\n",
    "               offense_code INT4,\n",
    "               description TEXT,\n",
    "               date DATE,\n",
    "               day_of_the_week weekdays,\n",
    "               lat FLOAT8,\n",
    "               long FLOAT8);'''\n",
    "           )"
   ]
  },
  {
   "cell_type": "markdown",
   "metadata": {},
   "source": [
    "## Load the data into the table¶\n",
    "\n",
    "We used the copy_expert to load the data as it is very fast and very succinct to use. "
   ]
  },
  {
   "cell_type": "code",
   "execution_count": 7,
   "metadata": {
    "collapsed": false
   },
   "outputs": [
    {
     "name": "stdout",
     "output_type": "stream",
     "text": [
      "298329\n"
     ]
    }
   ],
   "source": [
    "with open(\"boston.csv\") as f:\n",
    "    cur.copy_expert(\"COPY crimes.boston_crimes FROM STDIN WITH CSV HEADER;\", f)\n",
    "cur.execute(\"SELECT * FROM crimes.boston_crimes\")\n",
    "print(len(cur.fetchall()))"
   ]
  },
  {
   "cell_type": "markdown",
   "metadata": {},
   "source": [
    "## Revoke public privileges\n",
    "\n",
    "\n",
    "Now it is time to handle users. Our goal is to create the two user groups that we have learned about: \n",
    "- readonly \n",
    "- readwrite \n",
    "\n",
    "By following the least privilege principle, the first step in doing so is to make sure that there are no privileges inherited from the public group and on the public schema.\n"
   ]
  },
  {
   "cell_type": "code",
   "execution_count": 8,
   "metadata": {
    "collapsed": true
   },
   "outputs": [],
   "source": [
    "cur.execute(\"REVOKE ALL ON SCHEMA public FROM public;\")\n",
    "cur.execute(\"REVOKE ALL ON DATABASE crime_db FROM public;\")"
   ]
  },
  {
   "cell_type": "markdown",
   "metadata": {},
   "source": [
    "## Creating the read only and read-write group\n",
    "\n",
    "We create a readonly group with NOLOGIN because it is a group and not a user. We grant the group the ability to connect to the crime_db and the ability to use the crimes schema.\n",
    "\n",
    "When dealing with a read only group of users, we will provide SELECT privilege. We also add an extra line compared with what was asked. This extra line changes the way that privileges are given by default to the readonly group on new table that are created on the crimes schema. As we mentioned, by default not privileges are given. However we change is so that by default any user in the readonly group can issue select commands.\n",
    "\n",
    "When dealing with a read-write group of users, we will provide SELECT, INSERT, UPDATE and DELETE privileges. As before we change the default privileges so that user in the readwrite group have these privileges if we ever create a new table on the crimes schema."
   ]
  },
  {
   "cell_type": "code",
   "execution_count": 9,
   "metadata": {
    "collapsed": false
   },
   "outputs": [],
   "source": [
    "cur.execute(\"CREATE GROUP readonly NOLOGIN;\")\n",
    "cur.execute(\"CREATE GROUP readwrite NOLOGIN;\")\n",
    "\n",
    "cur.execute(\"GRANT CONNECT ON DATABASE crime_db TO readonly;\")\n",
    "cur.execute(\"GRANT CONNECT ON DATABASE crime_db TO readwrite;\")\n",
    "\n",
    "cur.execute(\"GRANT USAGE ON SCHEMA crimes TO readonly;\")\n",
    "cur.execute(\"GRANT USAGE ON SCHEMA crimes TO readwrite;\")\n",
    "\n",
    "cur.execute(\"GRANT SELECT ON ALL TABLES IN SCHEMA crimes TO readonly;\")\n",
    "cur.execute(\"GRANT SELECT, INSERT, DELETE, UPDATE ON ALL TABLES IN SCHEMA crimes TO readwrite;\")\n"
   ]
  },
  {
   "cell_type": "markdown",
   "metadata": {},
   "source": [
    "## Creating users\n",
    "\n",
    "Let's wrap up the project by creating one user in each group. We will need to create each user and then assign them to each group. "
   ]
  },
  {
   "cell_type": "code",
   "execution_count": 10,
   "metadata": {
    "collapsed": false
   },
   "outputs": [],
   "source": [
    "# cur.execute(\"CREATE USER data_analyst WITH PASSWORD 'secret1';\")\n",
    "# cur.execute(\"GRANT readonly TO data_analyst;\")\n",
    "\n",
    "# cur.execute(\"CREATE USER data_scientist WITH PASSWORD 'secret2';\")\n",
    "# cur.execute(\"GRANT readwrite TO data_scientist;\")"
   ]
  },
  {
   "cell_type": "markdown",
   "metadata": {},
   "source": [
    "## Test the database setup\n",
    "\n",
    "Test the database setup using SQL queries.\n",
    "\n",
    "In the pg_roles table we will check database related privileges and for that we will look at the following columns:\n",
    "\n",
    "- rolname: The name of the user / group that the privilege refers to.\n",
    "- rolsuper: Whether this user / group is a super user. It should be set to False on every user / group that we have created.\n",
    "- rolcreaterole: Whether user / group can create users, groups or roles. It should be False on every user / group that we have created.\n",
    "- rolcreatedb: Whether user / group can create databases. It should be False on every user / group that we have created.\n",
    "- rolcanlogin: Whether user / group can login. It should be True on the users and False on the groups that we have created.\n",
    "\n",
    "In the information_schema.table_privileges we will check privileges related to SQL queries on tables. We will list the privileges of each group that we have created."
   ]
  },
  {
   "cell_type": "code",
   "execution_count": 11,
   "metadata": {
    "collapsed": false
   },
   "outputs": [
    {
     "name": "stdout",
     "output_type": "stream",
     "text": [
      "('data_analyst', False, False, False, True)\n",
      "('data_scientist', False, False, False, True)\n",
      "('readonly', False, False, False, False)\n",
      "('readwrite', False, False, False, False)\n",
      "('readonly', 'SELECT')\n",
      "('readwrite', 'INSERT')\n",
      "('readwrite', 'SELECT')\n",
      "('readwrite', 'UPDATE')\n",
      "('readwrite', 'DELETE')\n"
     ]
    }
   ],
   "source": [
    "conn.commit()\n",
    "conn.close()\n",
    "# made new connection to check\n",
    "conn = psycopg2.connect(dbname=\"crime_db\", user=\"dq\")\n",
    "cur = conn.cursor()\n",
    "# check users and groups\n",
    "cur.execute(\"\"\"\n",
    "    SELECT rolname, rolsuper, rolcreaterole, rolcreatedb, rolcanlogin FROM pg_roles\n",
    "    WHERE rolname IN ('readonly', 'readwrite', 'data_analyst', 'data_scientist');\n",
    "\"\"\")\n",
    "for user in cur:\n",
    "    print(user)\n",
    "# check privileges\n",
    "    \n",
    "cur.execute(\"\"\"\n",
    "    SELECT grantee, privilege_type\n",
    "    FROM information_schema.table_privileges\n",
    "    WHERE grantee IN ('readonly', 'readwrite');\n",
    "\"\"\")\n",
    "for user in cur:\n",
    "    print(user)\n",
    "conn.close()"
   ]
  },
  {
   "cell_type": "code",
   "execution_count": null,
   "metadata": {
    "collapsed": true
   },
   "outputs": [],
   "source": []
  }
 ],
 "metadata": {
  "kernelspec": {
   "display_name": "Python 3",
   "language": "python",
   "name": "python3"
  },
  "language_info": {
   "codemirror_mode": {
    "name": "ipython",
    "version": 3
   },
   "file_extension": ".py",
   "mimetype": "text/x-python",
   "name": "python",
   "nbconvert_exporter": "python",
   "pygments_lexer": "ipython3",
   "version": "3.4.3"
  }
 },
 "nbformat": 4,
 "nbformat_minor": 2
}
